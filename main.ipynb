{
  "cells": [
    {
      "cell_type": "markdown",
      "metadata": {
        "id": "M27vrTudp15G"
      },
      "source": [
        "### Setup"
      ]
    },
    {
      "cell_type": "code",
      "execution_count": 1,
      "metadata": {
        "id": "NxC8Q7uqqjIG"
      },
      "outputs": [],
      "source": [
        "import cv2\n",
        "import matplotlib.pyplot as plt\n",
        "import numpy as np"
      ]
    },
    {
      "cell_type": "markdown",
      "metadata": {
        "id": "m-zxZuutqIg3"
      },
      "source": [
        "### Trabalho"
      ]
    },
    {
      "cell_type": "code",
      "execution_count": 2,
      "metadata": {
        "colab": {
          "base_uri": "https://localhost:8080/",
          "height": 390
        },
        "id": "a7jvlOBLq-uw",
        "outputId": "69e65606-ff61-4227-e1ff-6dec240d24f9"
      },
      "outputs": [],
      "source": [
        "cap = cv2.VideoCapture(0)\n",
        "if not cap.isOpened():\n",
        "    exit()\n",
        "\n",
        "while True:\n",
        "    ret, frame = cap.read()\n",
        "    \n",
        "    if not ret:\n",
        "        break\n",
        "\n",
        "    hsv = cv2.cvtColor(frame, cv2.COLOR_BGR2HSV)\n",
        "\n",
        "    lower_red_range = np.array([0, 120, 50])\n",
        "    upper_red_range = np.array([10, 255, 255])\n",
        "    lower_red_range2 = np.array([170, 120, 50])\n",
        "    upper_red_range2 = np.array([180, 255, 255])\n",
        "\n",
        "    red1 = cv2.inRange(hsv, lower_red_range, upper_red_range)\n",
        "    red2 = cv2.inRange(hsv, lower_red_range2, upper_red_range2)\n",
        "\n",
        "    red_only = cv2.bitwise_and(frame, frame, mask=cv2.bitwise_or(red1, red2))\n",
        "\n",
        "    gray = cv2.cvtColor(red_only, cv2.COLOR_BGR2GRAY)\n",
        "\n",
        "    _, binarized = cv2.threshold(gray, 70, 255, cv2.THRESH_BINARY)\n",
        "\n",
        "    circles = cv2.HoughCircles(\n",
        "        binarized,\n",
        "        cv2.HOUGH_GRADIENT,\n",
        "        1,\n",
        "        30,\n",
        "        param1=20,\n",
        "        param2=20,\n",
        "        minRadius=40,\n",
        "    )\n",
        "\n",
        "    if circles is not None:\n",
        "        circles = np.round(circles[0, :]).astype(\"int\")\n",
        "        for (x, y, r) in circles:\n",
        "            cv2.circle(frame, (x, y), r, (255, 0, 0), 2)\n",
        "\n",
        "    cv2.imshow('frame', frame)\n",
        "\n",
        "    if cv2.waitKey(1) == 13:\n",
        "        break\n",
        "\n",
        "cap.release()\n",
        "cv2.destroyAllWindows()"
      ]
    }
  ],
  "metadata": {
    "colab": {
      "provenance": []
    },
    "kernelspec": {
      "display_name": "Python 3",
      "name": "python3"
    },
    "language_info": {
      "codemirror_mode": {
        "name": "ipython",
        "version": 3
      },
      "file_extension": ".py",
      "mimetype": "text/x-python",
      "name": "python",
      "nbconvert_exporter": "python",
      "pygments_lexer": "ipython3",
      "version": "3.11.2"
    }
  },
  "nbformat": 4,
  "nbformat_minor": 0
}
